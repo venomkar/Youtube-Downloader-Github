{
 "cells": [
  {
   "cell_type": "code",
   "execution_count": null,
   "id": "479ff344-5ff8-4713-a965-e5e604f59a31",
   "metadata": {},
   "outputs": [],
   "source": [
    "pip install yt-dlp"
   ]
  },
  {
   "cell_type": "code",
   "execution_count": null,
   "id": "f6f0c3db-4cb2-4ae7-a928-24468de8a25d",
   "metadata": {},
   "outputs": [],
   "source": [
    "import yt_dlp\n",
    "\n",
    "url = input(\"Enter the video URL here: \")\n",
    "\n",
    "# Options to specify video and audio quality and format\n",
    "ydl_opts = {\n",
    "    'format': 'bestvideo[height<=1080]+bestaudio/best[height<=1080]',  # Downloads 1080p video with best audio\n",
    "    'merge_output_format': 'mp4',  # Merge video and audio into an MP4 file\n",
    "    'outtmpl': '%(title)s.%(ext)s',  # Output file name format\n",
    "}\n",
    "\n",
    "with yt_dlp.YoutubeDL(ydl_opts) as ydl:\n",
    "    ydl.download([url])\n",
    "\n",
    "print(\"Video downloaded in 1080p with audio\")"
   ]
  },
  {
   "cell_type": "code",
   "execution_count": null,
   "id": "964e82ea-9430-42c7-a88c-dfdb14a2b9f5",
   "metadata": {},
   "outputs": [],
   "source": []
  },
  {
   "cell_type": "code",
   "execution_count": null,
   "id": "ef1a2d00-941e-4e69-97f3-3083ff01c82a",
   "metadata": {},
   "outputs": [],
   "source": []
  }
 ],
 "metadata": {
  "kernelspec": {
   "display_name": "Python 3 (ipykernel)",
   "language": "python",
   "name": "python3"
  },
  "language_info": {
   "codemirror_mode": {
    "name": "ipython",
    "version": 3
   },
   "file_extension": ".py",
   "mimetype": "text/x-python",
   "name": "python",
   "nbconvert_exporter": "python",
   "pygments_lexer": "ipython3",
   "version": "3.12.4"
  }
 },
 "nbformat": 4,
 "nbformat_minor": 5
}
